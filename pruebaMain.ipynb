{
 "cells": [
  {
   "cell_type": "code",
   "execution_count": 1,
   "metadata": {},
   "outputs": [],
   "source": [
    "import uvicorn\n",
    "from fastapi import FastAPI\n",
    "import pandas as pd\n",
    "from typing import List\n",
    "\n"
   ]
  },
  {
   "cell_type": "code",
   "execution_count": 2,
   "metadata": {},
   "outputs": [],
   "source": [
    "#Desarrollo API: Propones disponibilizar los datos de la empresa usando el framework FastAPI. Las consultas que propones son las siguientes:\n",
    "#Deben crear 6 funciones para los endpoints que se consumirán en la API, recuerden que deben tener un decorador por cada una (@app.get(‘/’)).\n",
    "\n",
    "app = FastAPI()\n",
    "\n",
    "movies_clean = pd.read_csv('movies_dataset_clean.csv')\n",
    "movies_clean['production_countries'] = movies_clean['production_countries'].apply(eval)\n",
    "movies_clean['crew'] = movies_clean['crew'].apply(eval)\n",
    "movies_clean['spoken_languages'] = movies_clean['spoken_languages'].apply(eval)\n",
    "movies_clean['belongs_to_collection'] = movies_clean['belongs_to_collection'].apply(eval)\n",
    "movies_clean['revenue'] = movies_clean['revenue'].astype(int)\n",
    "movies_clean['production_companies'] = movies_clean['production_companies'].apply(eval)\n",
    "@app.get('/')\n",
    "async def root():\n",
    "    return {'message': 'Hello World'}\n"
   ]
  },
  {
   "cell_type": "code",
   "execution_count": 3,
   "metadata": {},
   "outputs": [],
   "source": [
    "#def peliculas_duracion( Pelicula: str ): Se ingresa una pelicula. Debe devolver la duracion y el año.\n",
    "#                   Ejemplo de retorno: X . Duración: x. Año: xx\n",
    "@app.get('/peliculas_duracion')\n",
    "def peliculas_duracion(Pelicula: str):\n",
    "    duracion = movies_clean[movies_clean['title'] == Pelicula]['runtime'].values[0]\n",
    "    anio = movies_clean[movies_clean['title'] == Pelicula]['release_year'].values[0]\n",
    "    return f\"{Pelicula}. Duración: {duracion} minutos. Año: {anio}\"\n"
   ]
  },
  {
   "cell_type": "code",
   "execution_count": 4,
   "metadata": {},
   "outputs": [],
   "source": [
    "#def franquicia( Franquicia: str ): Se ingresa la franquicia, retornando la cantidad de peliculas, ganancia total y promedio\n",
    "#                    Ejemplo de retorno: La franquicia X posee X peliculas, una ganancia total de x y una ganancia promedio de xx\n",
    "@app.get('/franquicia/{Franquicia}')\n",
    "def franquicia(Franquicia: str):\n",
    "    peliculaNro = 0\n",
    "    cantidad_peliculas = 0\n",
    "    ganancia_total = 0\n",
    "    ganancia_promedio = 0\n",
    "    for i in movies_clean['belongs_to_collection']:\n",
    "        peliculaNro += 1\n",
    "        for franquicia in i:\n",
    "            if franquicia == Franquicia:\n",
    "                cantidad_peliculas += 1\n",
    "                ganancia_total += movies_clean['revenue'][peliculaNro]\n",
    "    ganancia_promedio = ganancia_total / cantidad_peliculas\n",
    "    return f\"La franquicia {Franquicia} posee {cantidad_peliculas} peliculas, una ganancia total de {ganancia_total} y una ganancia promedio de {ganancia_promedio}\"\n",
    "  \n"
   ]
  },
  {
   "cell_type": "code",
   "execution_count": 5,
   "metadata": {},
   "outputs": [],
   "source": [
    "#def get_director( nombre_director ): Se ingresa el nombre de un director que se encuentre dentro de un dataset debiendo devolver el éxito del mismo medido a través del retorno. Además, deberá devolver el nombre de cada película con la fecha de lanzamiento, retorno individual, costo y ganancia de la misma, en formato lista.\n",
    "\n",
    "@app.get('/get_director/{nombre_director}')\n",
    "def get_director(nombre_director):\n",
    "\n",
    "    peliculas_producidas = 0\n",
    "    titulo = []\n",
    "    fecha_lanzamiento = []\n",
    "    retorno = []\n",
    "    costo = []\n",
    "    ganancia = []\n",
    "    retorno_total = 0\n",
    "\n",
    "    for i, lista_directores in enumerate(movies_clean['crew']):\n",
    "        for director in lista_directores:\n",
    "            if director == nombre_director:\n",
    "                peliculas_producidas += 1\n",
    "                retorno_total += movies_clean['return'].values[i]\n",
    "                titulo.append(movies_clean['title'].values[i])\n",
    "                fecha_lanzamiento.append(movies_clean['release_date'].values[i])\n",
    "                retorno.append(movies_clean['return'].values[i])\n",
    "                costo.append(movies_clean['budget'].values[i])\n",
    "                ganancia.append(movies_clean['revenue'].values[i])\n",
    "    lista_peliculas = {'titulo': titulo, 'fecha_lanzamiento': fecha_lanzamiento, 'retorno': retorno, 'costo': costo, 'ganancia': ganancia}\n",
    "    print(f\"El director {nombre_director} produjo {peliculas_producidas} peliculas, con un retorno total de {retorno_total}\")\n",
    "    df_movies = pd.DataFrame(lista_peliculas)\n",
    "\n",
    "    return df_movies"
   ]
  },
  {
   "cell_type": "code",
   "execution_count": 6,
   "metadata": {},
   "outputs": [],
   "source": [
    "#def peliculas_idioma( Idioma: str ): Se ingresa un idioma (como están escritos en el dataset, no hay que traducirlos!). Debe devolver la cantidad de películas producidas en ese idioma.\n",
    "#                   Ejemplo de retorno: X cantidad de películas fueron estrenadas en idioma\n",
    "\n",
    "@app.get('/peliculas_idioma/{Idioma}')\n",
    "def peliculas_idioma(Idioma: str):\n",
    "    \n",
    "    cantidad_peliculas = 0\n",
    "    for i in movies_clean['spoken_languages']:\n",
    "        for idioma in i:\n",
    "            if idioma == Idioma:\n",
    "                cantidad_peliculas += 1\n",
    "\n",
    "    return f\"{cantidad_peliculas} cantidad de películas fueron estrenadas en {Idioma}\"\n"
   ]
  },
  {
   "cell_type": "code",
   "execution_count": 7,
   "metadata": {},
   "outputs": [],
   "source": [
    "#def peliculas_pais( Pais: str ): Se ingresa un país (como están escritos en el dataset, no hay que traducirlos!), retornando la cantidad de peliculas producidas en el mismo.\n",
    "#                    Ejemplo de retorno: Se produjeron X películas en el país X\n",
    "@app.get('/peliculas_pais/{Pais}')\n",
    "def peliculas_pais(Pais: str):\n",
    "    \n",
    "    cantidad_peliculas = 0\n",
    "    for i in movies_clean['production_countries']:\n",
    "        for pais in i:\n",
    "            if pais == Pais:\n",
    "                cantidad_peliculas += 1\n",
    "\n",
    "    return f\"Se produjeron {cantidad_peliculas} películas en el país {Pais}\""
   ]
  },
  {
   "cell_type": "code",
   "execution_count": 8,
   "metadata": {},
   "outputs": [],
   "source": [
    "#def productoras_exitosas( Productora: str ): Se ingresa la productora, entregandote el revunue total y la cantidad de peliculas que realizo.\n",
    "#                    Ejemplo de retorno: La productora X ha tenido un revenue de x\n",
    "\n",
    "@app.get('/productoras_exitosas/{Productora}')\n",
    "def productoras_exitosas(Productora: str):\n",
    "    peliculaNro = 0\n",
    "    cantidad_peliculas = 0\n",
    "    ganancia_total = 0\n",
    "    for i in movies_clean['production_companies']:\n",
    "        peliculaNro += 1\n",
    "        for productora in i:\n",
    "            if productora == Productora:\n",
    "                cantidad_peliculas += 1\n",
    "                ganancia_total += movies_clean['revenue'][peliculaNro]\n",
    "    return f\"La productora {Productora} ha tenido un revenue de {ganancia_total} y ha realizado {cantidad_peliculas} peliculas\""
   ]
  },
  {
   "cell_type": "code",
   "execution_count": 9,
   "metadata": {},
   "outputs": [],
   "source": [
    "@app.get('/get_director/{nombre_director}')\n",
    "def get_director(nombre_director: str):\n",
    "    peliculas_producidas = 0\n",
    "    titulo = []\n",
    "    fecha_lanzamiento = []\n",
    "    retorno = []\n",
    "    costo = []\n",
    "    ganancia = []\n",
    "    retorno_total = 0\n",
    "\n",
    "    for i, lista_directores in enumerate(movies_clean['crew']):\n",
    "        for director in lista_directores:\n",
    "            if director == nombre_director:\n",
    "                peliculas_producidas += 1\n",
    "                retorno_total += movies_clean['return'].values[i]\n",
    "                titulo.append(movies_clean['title'].values[i])\n",
    "                fecha_lanzamiento.append(movies_clean['release_date'].values[i])\n",
    "                retorno.append(movies_clean['return'].values[i])\n",
    "                costo.append(movies_clean['budget'].values[i])\n",
    "                ganancia.append(movies_clean['revenue'].values[i])\n",
    "    lista_peliculas = {'titulo': titulo, 'fecha_lanzamiento': fecha_lanzamiento, 'retorno': retorno, 'costo': costo, 'ganancia': ganancia}\n",
    "    print(f\"El director {nombre_director} produjo {peliculas_producidas} peliculas, con un retorno total de {retorno_total}\")\n",
    "    df_movies = pd.DataFrame(lista_peliculas)\n",
    "\n",
    "    return df_movies"
   ]
  },
  {
   "cell_type": "code",
   "execution_count": 11,
   "metadata": {},
   "outputs": [
    {
     "data": {
      "text/plain": [
       "'La franquicia Toy Story Collection posee 3 peliculas, una ganancia total de 267285778 y una ganancia promedio de 89095259.33333333'"
      ]
     },
     "execution_count": 11,
     "metadata": {},
     "output_type": "execute_result"
    }
   ],
   "source": [
    "#pruebo la funcion anterior\n",
    "franquicia('Toy Story Collection')"
   ]
  }
 ],
 "metadata": {
  "kernelspec": {
   "display_name": "Python 3",
   "language": "python",
   "name": "python3"
  },
  "language_info": {
   "codemirror_mode": {
    "name": "ipython",
    "version": 3
   },
   "file_extension": ".py",
   "mimetype": "text/x-python",
   "name": "python",
   "nbconvert_exporter": "python",
   "pygments_lexer": "ipython3",
   "version": "3.11.4"
  },
  "orig_nbformat": 4
 },
 "nbformat": 4,
 "nbformat_minor": 2
}
