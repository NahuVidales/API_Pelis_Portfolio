{
 "cells": [
  {
   "cell_type": "code",
   "execution_count": 30,
   "metadata": {},
   "outputs": [],
   "source": [
    "import uvicorn\n",
    "from fastapi import FastAPI\n",
    "import pandas as pd\n",
    "from typing import List\n",
    "\n"
   ]
  },
  {
   "cell_type": "code",
   "execution_count": 31,
   "metadata": {},
   "outputs": [],
   "source": [
    "#Desarrollo API: Propones disponibilizar los datos de la empresa usando el framework FastAPI. Las consultas que propones son las siguientes:\n",
    "#Deben crear 6 funciones para los endpoints que se consumirán en la API, recuerden que deben tener un decorador por cada una (@app.get(‘/’)).\n",
    "\n",
    "app = FastAPI()\n",
    "\n",
    "movies_clean = pd.read_csv('movies_dataset_clean.csv')\n",
    "\n",
    "@app.get('/')\n",
    "async def root():\n",
    "    return {'message': 'Hello World'}\n"
   ]
  },
  {
   "cell_type": "code",
   "execution_count": 32,
   "metadata": {},
   "outputs": [],
   "source": [
    "#def peliculas_idioma( Idioma: str ): Se ingresa un idioma (como están escritos en el dataset, no hay que traducirlos!). Debe devolver la cantidad de películas producidas en ese idioma.\n",
    "#                   Ejemplo de retorno: X cantidad de películas fueron estrenadas en idioma\n",
    "\n",
    "@app.get('/peliculas_idioma')\n",
    "def peliculas_idioma(Idioma: List[str]):\n",
    "    cantidad_peliculas = 0\n",
    "    \n",
    "    for idioma_lista in movies_clean['spoken_languages']:\n",
    "        for idioma in idioma_lista:\n",
    "            if idioma == Idioma:\n",
    "                cantidad_peliculas += 1\n",
    "    \n",
    "    return f\"{cantidad_peliculas} cantidad de películas fueron estrenadas en {', '.join(Idioma)}\"\n",
    "\n",
    "\n",
    "    "
   ]
  },
  {
   "cell_type": "code",
   "execution_count": 11,
   "metadata": {},
   "outputs": [],
   "source": [
    "#def peliculas_duracion( Pelicula: str ): Se ingresa una pelicula. Debe devolver la duracion y el año.\n",
    "#                   Ejemplo de retorno: X . Duración: x. Año: xx\n",
    "@app.get('/peliculas_duracion')\n",
    "def peliculas_duracion(Pelicula: str):\n",
    "    duracion = movies_clean[movies_clean['title'] == Pelicula]['runtime'].values[0]\n",
    "    anio = movies_clean[movies_clean['title'] == Pelicula]['release_year'].values[0]\n",
    "    return f\"{Pelicula}. Duración: {duracion} minutos. Año: {anio}\"\n"
   ]
  },
  {
   "cell_type": "code",
   "execution_count": 48,
   "metadata": {},
   "outputs": [],
   "source": [
    "#def franquicia( Franquicia: str ): Se ingresa la franquicia, retornando la cantidad de peliculas, ganancia total y promedio\n",
    "#                    Ejemplo de retorno: La franquicia X posee X peliculas, una ganancia total de x y una ganancia promedio de xx\n",
    "@app.get('/franquicia/{Franquicia}')\n",
    "def franquicia(Franquicia: str):\n",
    "    cantidad_peliculas = 0\n",
    "    ganancia_total = 0\n",
    "    ganancia_promedio = 0\n",
    "    for i in movies_clean['belongs_to_collection']:\n",
    "        if i == Franquicia:\n",
    "            cantidad_peliculas = movies_clean['belongs_to_collection'].value_counts()[Franquicia]\n",
    "            ganancia_total = movies_clean[movies_clean['belongs_to_collection'] == Franquicia]['revenue'].sum()\n",
    "            ganancia_promedio = movies_clean[movies_clean['belongs_to_collection'] == Franquicia]['revenue'].mean()\n",
    "    return f\"La franquicia {Franquicia} posee {cantidad_peliculas} peliculas, una ganancia total de {ganancia_total} y una ganancia promedio de {ganancia_promedio}\"\n",
    "\n"
   ]
  },
  {
   "cell_type": "code",
   "execution_count": 49,
   "metadata": {},
   "outputs": [
    {
     "data": {
      "text/plain": [
       "'La franquicia Toy Story Collection posee 0 peliculas, una ganancia total de 0 y una ganancia promedio de 0'"
      ]
     },
     "execution_count": 49,
     "metadata": {},
     "output_type": "execute_result"
    }
   ],
   "source": [
    "#pruebo la funcion anterior\n",
    "franquicia('Toy Story Collection')"
   ]
  }
 ],
 "metadata": {
  "kernelspec": {
   "display_name": "Python 3",
   "language": "python",
   "name": "python3"
  },
  "language_info": {
   "codemirror_mode": {
    "name": "ipython",
    "version": 3
   },
   "file_extension": ".py",
   "mimetype": "text/x-python",
   "name": "python",
   "nbconvert_exporter": "python",
   "pygments_lexer": "ipython3",
   "version": "3.11.4"
  },
  "orig_nbformat": 4
 },
 "nbformat": 4,
 "nbformat_minor": 2
}
